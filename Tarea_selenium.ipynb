{
 "cells": [
  {
   "attachments": {},
   "cell_type": "markdown",
   "metadata": {},
   "source": [
    "# **Tarea de Selenium**"
   ]
  },
  {
   "attachments": {},
   "cell_type": "markdown",
   "metadata": {},
   "source": [
    "Estudiante: "
   ]
  },
  {
   "attachments": {},
   "cell_type": "markdown",
   "metadata": {},
   "source": [
    "## **1. Descarga de archivos**"
   ]
  },
  {
   "attachments": {},
   "cell_type": "markdown",
   "metadata": {},
   "source": [
    "1. Entra al siguiente link: https://www.artic.edu/search?q=Van%20gogh\n",
    "2. Entra con Explicit Wait Time a The Collection buscando por su texto\n",
    "3. Descarga tus 3 imágenes favoritas\n",
    "4. Haz print de la forma que quieras"
   ]
  },
  {
   "cell_type": "code",
   "execution_count": null,
   "metadata": {},
   "outputs": [],
   "source": [
    "# Código"
   ]
  },
  {
   "attachments": {},
   "cell_type": "markdown",
   "metadata": {},
   "source": [
    "## **2. Tabla de pandas**"
   ]
  },
  {
   "attachments": {},
   "cell_type": "markdown",
   "metadata": {},
   "source": [
    "1. Entra al siguiente link: https://es.wikipedia.org/wiki/Rick_Astley\n",
    "2. Ve a la sección de discografía usando un absolute path\n",
    "3. Crea un dataframe con dos columnas: \"Año\", \"Título\" para todos los sencillos de Rick Astley\n",
    "4. Ejecuta un group by por año"
   ]
  },
  {
   "cell_type": "code",
   "execution_count": null,
   "metadata": {},
   "outputs": [],
   "source": [
    "# Código"
   ]
  },
  {
   "attachments": {},
   "cell_type": "markdown",
   "metadata": {},
   "source": [
    "## **3. Cinemex**"
   ]
  },
  {
   "attachments": {},
   "cell_type": "markdown",
   "metadata": {},
   "source": [
    "1. Entra a: https://cinemex.com\n",
    "2. Cierra la ventana del anuncio en caso de que salga\n",
    "3. Imprime la sinopsis de la película destacada de la semana (en caso de que no salga, de una película cualquiera)"
   ]
  },
  {
   "cell_type": "code",
   "execution_count": null,
   "metadata": {},
   "outputs": [],
   "source": [
    "# Código"
   ]
  }
 ],
 "metadata": {
  "language_info": {
   "name": "python"
  },
  "orig_nbformat": 4
 },
 "nbformat": 4,
 "nbformat_minor": 2
}
